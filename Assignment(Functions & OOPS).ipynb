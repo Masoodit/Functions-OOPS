{
 "cells": [
  {
   "cell_type": "markdown",
   "id": "6b31c1f7-ba86-4d2d-a334-8874b226f0d9",
   "metadata": {},
   "source": [
    "## 1.Explain the importance of Functions.\n",
    "\n",
    "ANS: \n",
    "\n",
    "Functions are an essential component of computer programming for the following reasons:\n",
    "\n",
    "A) Modularity and Reusability: Functions allow programmers to break down a large program into smaller, more manageable modules. Each function encapsulates a specific task or functionality, making the code more organized and easier to understand, maintain, and reuse across different parts of the program.\n",
    "B) Abstraction and Readability: Functions provide a level of abstraction, allowing programmers to focus on the high-level functionality without getting bogged down in the implementation details. This improves the overall readability and maintainability of the code."
   ]
  },
  {
   "cell_type": "markdown",
   "id": "cb98a15e-d9dd-49e7-a4ac-3a67a68041cc",
   "metadata": {},
   "source": [
    "## 2.Write a basic function to greet students."
   ]
  },
  {
   "cell_type": "code",
   "execution_count": 12,
   "id": "c89af55f-7d3d-4448-9319-27c5dd4f677c",
   "metadata": {},
   "outputs": [
    {
     "name": "stdout",
     "output_type": "stream",
     "text": [
      "Hello, John!\n"
     ]
    }
   ],
   "source": [
    "#ANS\n",
    "def greet_students(name):\n",
    "    print(f\"Hello, {name}!\")\n",
    "\n",
    "# Example usage:\n",
    "greet_students(\"John\")"
   ]
  },
  {
   "cell_type": "markdown",
   "id": "9444f978-e6cd-4c8b-a731-753bfa7def3a",
   "metadata": {},
   "source": [
    "## 3.What is the difference between print and return statements?"
   ]
  },
  {
   "cell_type": "markdown",
   "id": "1c80d681-5ca6-434b-a988-0c303fa7c3dc",
   "metadata": {},
   "source": [
    "ANS: \n",
    "\n",
    "The main difference between the print and return statements in Python is their purpose and effect on the program flow:\n",
    "Print Statement:\n",
    "Purpose: To display output to the console or terminal.\n",
    "Effect: It does not affect the program flow or return any value. It simply outputs the specified value to the console.\n",
    "\n",
    "Return Statement:\n",
    "Purpose: To exit a function and return a value to the calling code.\n",
    "Effect: It assigns a value to a variable or expression and allows the returned value to be used in the calling code."
   ]
  },
  {
   "cell_type": "markdown",
   "id": "a138ecda-ab67-4aed-9537-331a799f00af",
   "metadata": {},
   "source": [
    "## 4.What are *args and **kwargs? "
   ]
  },
  {
   "cell_type": "markdown",
   "id": "80ccd79e-f9d4-416c-a033-faa94bde0c9a",
   "metadata": {},
   "source": [
    "ANS: \n",
    "\n",
    "*args and **kwargs are special keywords used in Python function definitions to handle variable-length arguments:\n",
    "\n",
    "*args:\n",
    "\n",
    "Purpose: *args is used to pass a variable number of non-keyworded arguments to a function.\n",
    "\n",
    "Effect: It creates a tuple of the arguments and makes it available inside the function, allowing the function to perform operations on the tuple.\n",
    "\n",
    "**kwargs:\n",
    "\n",
    "Purpose: **kwargs is used to pass a variable number of keyword arguments to a function.\n",
    "\n",
    "Effect: It creates a dictionary of the arguments and makes it available inside the function, allowing the function to perform operations on the dictionary."
   ]
  },
  {
   "cell_type": "markdown",
   "id": "9311c28e-c644-4c12-9c8a-05ecfc8e2039",
   "metadata": {},
   "source": [
    "## 5.Explain the iterator function."
   ]
  },
  {
   "cell_type": "markdown",
   "id": "7ddafe94-b0f2-4bb5-aa9d-1ea9c2a784a8",
   "metadata": {},
   "source": [
    "ANS:\n",
    "\n",
    "An iterator function in Python is a method that allows you to iterate over a collection of data, such as lists, tuples, dictionaries, and sets.\n",
    "\n",
    "Here are the key points:\n",
    "\n",
    "\n",
    "Iterator Protocol: An iterator must implement two special methods: __iter__() and __next__(). __iter__() returns the iterator object itself, and __next__() returns the next item in the sequence.\n",
    "\n",
    "\n",
    "Using Iterators: Iterators can be used to retrieve the next item in the sequence using the next() function . If there are no more items, it raises a StopIteration exception.\n",
    "\n",
    "\n",
    "For Loop: The for loop automatically creates an iterator object and executes the next() method for each iteration.\n",
    "\n",
    "\n",
    "Creating Custom Iterators: Iterators can be used to create a custom iterator by implementing the __iter__() and __next__() methods in a class. This allows you to control the iteration process and return specific values.\n",
    "\n",
    "\n",
    "Limitations: Iterators have limitations, such as not being able to iterate multiple times over the same data. They also require careful management to avoid infinite loops.\n",
    "\n",
    "\n",
    "In summary, iterators are essential in Python for efficiently and flexibly iterating over collections of data."
   ]
  },
  {
   "cell_type": "markdown",
   "id": "6a45fa81-f28a-41ab-b46e-37256fb69e21",
   "metadata": {},
   "source": [
    "## 6.Write a code that generates the squares of numbers from1ton using a generator."
   ]
  },
  {
   "cell_type": "code",
   "execution_count": 9,
   "id": "f3137dd4-3df8-4e6e-9f8c-2470065c190b",
   "metadata": {},
   "outputs": [
    {
     "name": "stdout",
     "output_type": "stream",
     "text": [
      "1\n",
      "4\n",
      "9\n",
      "16\n",
      "25\n"
     ]
    }
   ],
   "source": [
    "#ANS\n",
    "def square_generator(n):\n",
    "    for i in range(1, n+1):\n",
    "        yield i**2\n",
    "\n",
    "# Example usage\n",
    "n = 5\n",
    "squares = square_generator(n)\n",
    "\n",
    "for square in squares:\n",
    "    print(square)"
   ]
  },
  {
   "cell_type": "markdown",
   "id": "baf886ef-5322-44fb-9fea-9a1171b4fb9d",
   "metadata": {},
   "source": [
    "## 7.Write a code that generates palindromic numbers up ton using a generator."
   ]
  },
  {
   "cell_type": "code",
   "execution_count": 10,
   "id": "016fd44d-5997-44ac-8eea-1b6e69cdcf6d",
   "metadata": {},
   "outputs": [
    {
     "name": "stdout",
     "output_type": "stream",
     "text": [
      "1\n",
      "2\n",
      "3\n",
      "4\n",
      "5\n",
      "6\n",
      "7\n",
      "8\n",
      "9\n",
      "11\n",
      "22\n",
      "33\n",
      "44\n",
      "55\n",
      "66\n",
      "77\n",
      "88\n",
      "99\n"
     ]
    }
   ],
   "source": [
    "#ANS\n",
    "def palindrome_generator(n):\n",
    "    for num in range(1, n+1):\n",
    "        if str(num) == str(num)[::-1]:\n",
    "            yield num\n",
    "\n",
    "# Example usage\n",
    "n = 100\n",
    "palindromes = palindrome_generator(n)\n",
    "\n",
    "for palindrome in palindromes:\n",
    "    print(palindrome)"
   ]
  },
  {
   "cell_type": "markdown",
   "id": "32679873-0069-4efa-a245-f30537f64274",
   "metadata": {},
   "source": [
    "## 8.Write a code that generates even numbers from 2 ton using a generator."
   ]
  },
  {
   "cell_type": "code",
   "execution_count": 11,
   "id": "1bee053d-1808-40e7-a43a-9f420da7fbe0",
   "metadata": {},
   "outputs": [
    {
     "name": "stdout",
     "output_type": "stream",
     "text": [
      "2\n",
      "4\n",
      "6\n",
      "8\n",
      "10\n",
      "12\n",
      "14\n",
      "16\n",
      "18\n",
      "20\n"
     ]
    }
   ],
   "source": [
    "#ANS\n",
    "def even_generator(n):\n",
    "    for num in range(2, n+1, 2):\n",
    "        yield num\n",
    "\n",
    "# Example usage\n",
    "n = 20\n",
    "even_numbers = even_generator(n)\n",
    "\n",
    "for even_num in even_numbers:\n",
    "    print(even_num)"
   ]
  },
  {
   "cell_type": "markdown",
   "id": "a209e677-5bf8-4270-9aa0-ac4da77f7c27",
   "metadata": {},
   "source": [
    "## 9.Write a code that generates powers of two up ton using a generator."
   ]
  },
  {
   "cell_type": "code",
   "execution_count": 6,
   "id": "1cd873ab-09d9-439b-951b-8223d49a9a13",
   "metadata": {},
   "outputs": [
    {
     "name": "stdout",
     "output_type": "stream",
     "text": [
      "1\n",
      "2\n",
      "4\n",
      "8\n",
      "16\n"
     ]
    }
   ],
   "source": [
    "#ANS\n",
    "def power_of_two_generator(n):\n",
    "    power = 1\n",
    "    while power <= n:\n",
    "        yield power\n",
    "        power *= 2\n",
    "\n",
    "# Example usage\n",
    "n = 16\n",
    "powers_of_two = power_of_two_generator(n)\n",
    "\n",
    "for power in powers_of_two:\n",
    "    print(power)"
   ]
  },
  {
   "cell_type": "markdown",
   "id": "fd026d48-b3e4-4e22-af10-89b16fd226d5",
   "metadata": {},
   "source": [
    "## 10.Write a code that generates prime numbers up ton using a generator."
   ]
  },
  {
   "cell_type": "code",
   "execution_count": 13,
   "id": "a83f28c2-602c-44bc-b802-c34816deb38f",
   "metadata": {},
   "outputs": [
    {
     "name": "stdout",
     "output_type": "stream",
     "text": [
      "2\n",
      "3\n",
      "5\n",
      "7\n",
      "11\n",
      "13\n",
      "17\n",
      "19\n"
     ]
    }
   ],
   "source": [
    "#ANS\n",
    "def prime_generator(n):\n",
    "    def is_prime(num):\n",
    "        if num < 2:\n",
    "            return False\n",
    "        for i in range(2, int(num**0.5) + 1):\n",
    "            if num % i == 0:\n",
    "                return False\n",
    "        return True\n",
    "\n",
    "    for num in range(2, n+1):\n",
    "        if is_prime(num):\n",
    "            yield num\n",
    "\n",
    "# Example usage\n",
    "n = 20\n",
    "primes = prime_generator(n)\n",
    "\n",
    "for prime in primes:\n",
    "    print(prime)"
   ]
  },
  {
   "cell_type": "markdown",
   "id": "387469e0-d13a-4d48-95ed-ae57f33ca4af",
   "metadata": {},
   "source": [
    "## 11. Write a code that uses a lambda function to calculate the sum of two numbers."
   ]
  },
  {
   "cell_type": "code",
   "execution_count": 15,
   "id": "479a97fe-e9ce-4eef-b84f-2ec5a1c92e99",
   "metadata": {},
   "outputs": [
    {
     "name": "stdout",
     "output_type": "stream",
     "text": [
      "15\n"
     ]
    }
   ],
   "source": [
    "#ANS\n",
    "sum_lambda = lambda x, y: x + y\n",
    "\n",
    "\n",
    "num1 = 5\n",
    "num2 = 10\n",
    "result = sum_lambda(num1, num2)\n",
    "print(result)  "
   ]
  },
  {
   "cell_type": "markdown",
   "id": "e82d823f-c39a-4757-8efd-a8317f77f3c9",
   "metadata": {},
   "source": [
    "## 12. Write a code that uses a lambda function to calculate the square of a given number."
   ]
  },
  {
   "cell_type": "code",
   "execution_count": 17,
   "id": "0a25c892-a759-4af9-84bb-abd7ac612e5a",
   "metadata": {},
   "outputs": [
    {
     "name": "stdout",
     "output_type": "stream",
     "text": [
      "25\n"
     ]
    }
   ],
   "source": [
    "#ANS\n",
    "square_lambda = lambda x: x ** 2\n",
    "\n",
    "\n",
    "num = 5\n",
    "result = square_lambda(num)\n",
    "print(result)  "
   ]
  },
  {
   "cell_type": "markdown",
   "id": "5b423625-5674-4144-9a1a-f19ef5ea004d",
   "metadata": {},
   "source": [
    "## 13. Write a code that uses a lambda function to check whether a given number is even or odd"
   ]
  },
  {
   "cell_type": "code",
   "execution_count": 20,
   "id": "328068e9-fbf6-45cb-b1b6-88c955f68738",
   "metadata": {},
   "outputs": [
    {
     "name": "stdout",
     "output_type": "stream",
     "text": [
      "False\n",
      "True\n"
     ]
    }
   ],
   "source": [
    "#ANS\n",
    "is_even = lambda x: x % 2 == 0\n",
    "\n",
    "num1 = 7\n",
    "num2 = 10\n",
    "\n",
    "print(is_even(num1))  \n",
    "print(is_even(num2))  "
   ]
  },
  {
   "cell_type": "markdown",
   "id": "6b5a6bb2-c3ce-43ae-886d-06556e29dd63",
   "metadata": {},
   "source": [
    "## 15. Write a code that uses a lambda function to concatenate two strings"
   ]
  },
  {
   "cell_type": "code",
   "execution_count": 21,
   "id": "03b43635-21a8-432e-bc94-677abf45d859",
   "metadata": {},
   "outputs": [
    {
     "name": "stdout",
     "output_type": "stream",
     "text": [
      "HelloWorld\n"
     ]
    }
   ],
   "source": [
    "#ANS\n",
    "concat_lambda = lambda x, y: x + y\n",
    "\n",
    "\n",
    "str1 = \"Hello\"\n",
    "str2 = \"World\"\n",
    "\n",
    "result = concat_lambda(str1, str2)\n",
    "print(result) "
   ]
  },
  {
   "cell_type": "markdown",
   "id": "2118db73-68ca-4dad-beb8-43e2e2162fde",
   "metadata": {},
   "source": [
    "## 16. Write a code that uses a lambda function to find the maximum of three given numbers"
   ]
  },
  {
   "cell_type": "code",
   "execution_count": 23,
   "id": "b636a093-0f67-4c4a-a5db-06012baac2a9",
   "metadata": {},
   "outputs": [
    {
     "name": "stdout",
     "output_type": "stream",
     "text": [
      "10\n"
     ]
    }
   ],
   "source": [
    "#ANS\n",
    "max_lambda = lambda x, y, z: max(x, y, z)\n",
    "\n",
    "num1 = 5\n",
    "num2 = 10\n",
    "num3 = 7\n",
    "\n",
    "result = max_lambda(num1, num2, num3)\n",
    "print(result)  "
   ]
  },
  {
   "cell_type": "markdown",
   "id": "650512b3-fe0d-4053-9cef-b39aaa8de7c6",
   "metadata": {},
   "source": [
    "## 17 Write a code that generates the squares of even numbers from a given list"
   ]
  },
  {
   "cell_type": "code",
   "execution_count": 26,
   "id": "1272e8b3-da69-4534-9c41-f40364c96e70",
   "metadata": {},
   "outputs": [
    {
     "name": "stdout",
     "output_type": "stream",
     "text": [
      "[4, 16, 36]\n"
     ]
    }
   ],
   "source": [
    "#ANS\n",
    "def squares_of_even_numbers(lst):\n",
    "    return [x ** 2 for x in lst if x % 2 == 0]\n",
    "\n",
    "numbers = [1, 2, 3, 4, 5, 6]\n",
    "result = squares_of_even_numbers(numbers)\n",
    "\n",
    "print(result)  "
   ]
  },
  {
   "cell_type": "markdown",
   "id": "7fe067e3-9454-4948-9ced-29f564d7f99c",
   "metadata": {},
   "source": [
    "## 18 Write a code that calculates the product of positive numbers from a given list."
   ]
  },
  {
   "cell_type": "code",
   "execution_count": 27,
   "id": "ff3e0386-0f56-4e7f-8b7a-2eb1187d3f4e",
   "metadata": {},
   "outputs": [
    {
     "name": "stdout",
     "output_type": "stream",
     "text": [
      "720\n"
     ]
    }
   ],
   "source": [
    "#ANS\n",
    "def product_of_positive_numbers(lst):\n",
    "    result = 1\n",
    "    for num in lst:\n",
    "        if num > 0:\n",
    "            result *= num\n",
    "    return result\n",
    "\n",
    "numbers = [1, 2, 3, 4, 5, 6]\n",
    "result = product_of_positive_numbers(numbers)\n",
    "\n",
    "print(result)  "
   ]
  },
  {
   "cell_type": "markdown",
   "id": "ddd40604-18a7-4c65-9923-da0ca2336820",
   "metadata": {},
   "source": [
    "## 19. Write a code that doubles the values of odd numbers from a given list."
   ]
  },
  {
   "cell_type": "code",
   "execution_count": 28,
   "id": "caecff2b-f51b-4da1-858f-d4073e807f2a",
   "metadata": {},
   "outputs": [
    {
     "name": "stdout",
     "output_type": "stream",
     "text": [
      "[2, 2, 6, 4, 10, 6]\n"
     ]
    }
   ],
   "source": [
    "#ANS\n",
    "def double_odd_numbers(lst):\n",
    "    return [x * 2 if x % 2 != 0 else x for x in lst]\n",
    "\n",
    "numbers = [1, 2, 3, 4, 5, 6]\n",
    "result = double_odd_numbers(numbers)\n",
    "\n",
    "print(result)  "
   ]
  },
  {
   "cell_type": "markdown",
   "id": "6ea487f0-5687-43e4-a086-7f6b20be5040",
   "metadata": {},
   "source": [
    "## 20. Write a code that calculates the sum of cubes of numbers from a given list."
   ]
  },
  {
   "cell_type": "code",
   "execution_count": 29,
   "id": "1315f422-9e3f-4583-aa21-529b4e4e9932",
   "metadata": {},
   "outputs": [
    {
     "name": "stdout",
     "output_type": "stream",
     "text": [
      "225\n"
     ]
    }
   ],
   "source": [
    "#ANS\n",
    "def sum_of_cubes(lst):\n",
    "    return sum([x ** 3 for x in lst])\n",
    "\n",
    "numbers = [1, 2, 3, 4, 5]\n",
    "result = sum_of_cubes(numbers)\n",
    "\n",
    "print(result)  "
   ]
  },
  {
   "cell_type": "markdown",
   "id": "2a9596f8-af0c-4a0c-8af7-56be0ddca825",
   "metadata": {},
   "source": [
    "## 21. Write a code that filters out prime numbers from a given list."
   ]
  },
  {
   "cell_type": "code",
   "execution_count": 30,
   "id": "a31586d1-459a-4085-a897-9ee07ef16577",
   "metadata": {},
   "outputs": [
    {
     "name": "stdout",
     "output_type": "stream",
     "text": [
      "[1, 4, 6, 8, 9, 10]\n"
     ]
    }
   ],
   "source": [
    "#ANS\n",
    "def filter_out_primes(lst):\n",
    "    def is_prime(num):\n",
    "        if num < 2:\n",
    "            return False\n",
    "        for i in range(2, int(num**0.5) + 1):\n",
    "            if num % i == 0:\n",
    "                return False\n",
    "        return True\n",
    "\n",
    "    return [x for x in lst if not is_prime(x)]\n",
    "\n",
    "numbers = [1, 2, 3, 4, 5, 6, 7, 8, 9, 10]\n",
    "result = filter_out_primes(numbers)\n",
    "\n",
    "print(result)  "
   ]
  },
  {
   "cell_type": "markdown",
   "id": "c163c9b3-5593-4f87-9e92-acb33b041f78",
   "metadata": {},
   "source": [
    "## 22. Write a code that uses a lambda function to calculate the sum of two numbers."
   ]
  },
  {
   "cell_type": "code",
   "execution_count": 31,
   "id": "626f07f7-c2b2-4b9e-860c-6f180a363bc5",
   "metadata": {},
   "outputs": [
    {
     "name": "stdout",
     "output_type": "stream",
     "text": [
      "15\n"
     ]
    }
   ],
   "source": [
    "#ANS\n",
    "sum_lambda = lambda x, y: x + y\n",
    "\n",
    "num1 = 5\n",
    "num2 = 10\n",
    "result = sum_lambda(num1, num2)\n",
    "print(result)  "
   ]
  },
  {
   "cell_type": "markdown",
   "id": "7295c20c-e553-4e4d-a6a2-749aeb2e9c82",
   "metadata": {},
   "source": [
    "## 23. Write a code that uses a lambda function to calculate the square of a given number"
   ]
  },
  {
   "cell_type": "code",
   "execution_count": 32,
   "id": "f0fd7061-d65f-4c6e-b26c-f5682dd9540b",
   "metadata": {},
   "outputs": [
    {
     "name": "stdout",
     "output_type": "stream",
     "text": [
      "25\n"
     ]
    }
   ],
   "source": [
    "#ANS\n",
    "square_lambda = lambda x: x ** 2\n",
    "\n",
    "\n",
    "num = 5\n",
    "result = square_lambda(num)\n",
    "print(result)  "
   ]
  },
  {
   "cell_type": "markdown",
   "id": "00abbbc8-4fa0-4c27-b0dc-ab55ea1497a0",
   "metadata": {},
   "source": [
    "## 24. Write a code that uses a lambda function to check whether a given number is even or odd."
   ]
  },
  {
   "cell_type": "code",
   "execution_count": 33,
   "id": "56d9b929-dc54-4c22-b8ed-0d2d8e4ec814",
   "metadata": {},
   "outputs": [
    {
     "name": "stdout",
     "output_type": "stream",
     "text": [
      "False\n",
      "True\n"
     ]
    }
   ],
   "source": [
    "#ANS\n",
    "is_even = lambda x: x % 2 == 0\n",
    "\n",
    "num1 = 7\n",
    "num2 = 10\n",
    "\n",
    "print(is_even(num1))  \n",
    "print(is_even(num2)) "
   ]
  },
  {
   "cell_type": "markdown",
   "id": "9c167136-5e95-42fe-bda2-c39a04e8fb4c",
   "metadata": {},
   "source": [
    "## 25. Write a code that uses a lambda function to concatenate two strings."
   ]
  },
  {
   "cell_type": "code",
   "execution_count": 34,
   "id": "37a29fd7-a02c-4fff-b9c1-c5c7c9cc2235",
   "metadata": {},
   "outputs": [
    {
     "name": "stdout",
     "output_type": "stream",
     "text": [
      "HelloWorld\n"
     ]
    }
   ],
   "source": [
    "#ANS\n",
    "concat_lambda = lambda x, y: x + y\n",
    "\n",
    "\n",
    "str1 = \"Hello\"\n",
    "str2 = \"World\"\n",
    "\n",
    "result = concat_lambda(str1, str2)\n",
    "print(result) "
   ]
  },
  {
   "cell_type": "markdown",
   "id": "ac710d97-5458-4b0a-b509-3dd65191ceda",
   "metadata": {},
   "source": [
    "## 26. Write a code that uses a lambda function to find the maximum of three given numbers."
   ]
  },
  {
   "cell_type": "code",
   "execution_count": 35,
   "id": "4cf3020f-9ed0-4591-a123-90539965f6c5",
   "metadata": {},
   "outputs": [
    {
     "name": "stdout",
     "output_type": "stream",
     "text": [
      "10\n"
     ]
    }
   ],
   "source": [
    "#ANS\n",
    "max_lambda = lambda x, y, z: max(x, y, z)\n",
    "\n",
    "num1 = 5\n",
    "num2 = 10\n",
    "num3 = 7\n",
    "\n",
    "result = max_lambda(num1, num2, num3)\n",
    "print(result)  "
   ]
  },
  {
   "cell_type": "markdown",
   "id": "208c1a1f-8997-4175-ae05-ca33ae26fd1c",
   "metadata": {},
   "source": [
    "## 27. What is encapsulation in OOP?"
   ]
  },
  {
   "cell_type": "markdown",
   "id": "0d470f4d-e15f-48e6-acb0-11af55897559",
   "metadata": {},
   "source": [
    "ANS:\n",
    "    \n",
    "Encapsulation in OOP is the concept of bundling data and methods within a single unit, known as a class, to protect the data and methods from outside interference and ensure data integrity and security."
   ]
  },
  {
   "cell_type": "markdown",
   "id": "43cd5f5b-7119-4b0b-828f-f0b62c4284a2",
   "metadata": {},
   "source": [
    "## 28. Explain the use of access modifiers in Python classes"
   ]
  },
  {
   "cell_type": "markdown",
   "id": "64fb1950-7ef4-4ae0-8b4e-929b64d1358c",
   "metadata": {},
   "source": [
    "ANS:\n",
    "\n",
    "Access modifiers in Python classes are used to control the visibility and accessibility of class members (attributes and methods) from outside the class. They determine whether other classes and objects can access, modify, or inherit a particular member.\n",
    "\n",
    "Public Access Modifier:\n",
    "Members declared as public can be accessed from anywhere in the program.\n",
    "\n",
    "Private Access Modifier:\n",
    "Members declared as private can only be accessed within the class where they are defined and cannot be accessed outside the class."
   ]
  },
  {
   "cell_type": "markdown",
   "id": "9d41caac-d644-4f09-91ba-a0c0eb7ae143",
   "metadata": {},
   "source": [
    "## 29. What is inheritance in OOP?"
   ]
  },
  {
   "cell_type": "markdown",
   "id": "73bd4471-2950-441d-aa95-89c5cbe0d282",
   "metadata": {},
   "source": [
    "ANS:\n",
    "    \n",
    "Inheritance in OOP is a mechanism where a new class (the derived or child class) acquires the properties and methods of an existing class (the base or parent class). This feature promotes code reusability and creates a parent-child relationship between classes"
   ]
  },
  {
   "cell_type": "markdown",
   "id": "40e98bfd-dcc4-4b8d-a178-b8fc0f5985b3",
   "metadata": {},
   "source": [
    "## 30. Define polymorphism in OOP?"
   ]
  },
  {
   "cell_type": "markdown",
   "id": "9447c1ad-e722-4c31-be4e-cc800f3011a8",
   "metadata": {},
   "source": [
    "#ANS:\n",
    "\n",
    "Polymorphism in OOP:\n",
    "Polymorphism is the ability of an object to take on multiple forms or behaviors based on the context in which it is used.\n",
    "It allows objects of different classes to be treated as if they were of the same class, enabling more flexibility and code reusability"
   ]
  },
  {
   "cell_type": "markdown",
   "id": "d0c792bd-e722-463c-8617-9bff0779d84c",
   "metadata": {},
   "source": [
    "## 31. Explain method overriding in Python?"
   ]
  },
  {
   "cell_type": "markdown",
   "id": "2b69c118-f18f-472a-9930-a85acd6f3b36",
   "metadata": {},
   "source": [
    "#ANS:\n",
    "\n",
    "Method Overriding in Python:\n",
    "Method overriding is a feature in Python where a subclass provides a specific implementation of a method that is already defined in its superclass.\n",
    "The method in the subclass has the same name, parameters, and return type as the method in the superclass, but it can have a different implementation.\n",
    "Example:"
   ]
  },
  {
   "cell_type": "code",
   "execution_count": 1,
   "id": "21cb0615-e3e0-4f97-838d-cbcb22f661f0",
   "metadata": {},
   "outputs": [
    {
     "name": "stdout",
     "output_type": "stream",
     "text": [
      "Calling child method\n"
     ]
    }
   ],
   "source": [
    "class Parent:\n",
    "    def myMethod(self):\n",
    "        print(\"Calling parent method\")\n",
    "\n",
    "class Child(Parent):\n",
    "    def myMethod(self):\n",
    "        print(\"Calling child method\")\n",
    "\n",
    "c = Child()\n",
    "c.myMethod()  # Output: Calling child method"
   ]
  },
  {
   "cell_type": "markdown",
   "id": "4ceb2539-6aea-413d-9a19-f7837bc34ffe",
   "metadata": {},
   "source": [
    "## 32. Define a parent class Animal with a method make_sound that prints \"Generic animal sound\". Create a child class Dog inheriting from Animal with a method make_sound that prints \"Woof!\"."
   ]
  },
  {
   "cell_type": "code",
   "execution_count": 2,
   "id": "ee6b7e84-0c50-4df3-b5f5-086ebe43e766",
   "metadata": {},
   "outputs": [
    {
     "name": "stdout",
     "output_type": "stream",
     "text": [
      "Woof!\n"
     ]
    }
   ],
   "source": [
    "#ANS:\n",
    "\n",
    "class Animal:\n",
    "    def make_sound(self):\n",
    "        print(\"Generic animal sound\")\n",
    "\n",
    "class Dog(Animal):\n",
    "    def make_sound(self):\n",
    "        print(\"Woof!\")\n",
    "\n",
    "# Create an instance of Dog\n",
    "dog = Dog()\n",
    "\n",
    "# Call the make_sound method\n",
    "dog.make_sound()  # Output: Woof!"
   ]
  },
  {
   "cell_type": "markdown",
   "id": "0d42624c-2364-4576-9c6d-c574adcd5163",
   "metadata": {},
   "source": [
    "## 33. Define a method move in the Animal class that prints \"Animal moves\". Override the move method in the Dog class to print \"Dog runs.\""
   ]
  },
  {
   "cell_type": "code",
   "execution_count": 3,
   "id": "c9b0a42d-ec3f-4829-aa21-4a773f977114",
   "metadata": {},
   "outputs": [
    {
     "name": "stdout",
     "output_type": "stream",
     "text": [
      "Woof!\n",
      "Dog runs\n"
     ]
    }
   ],
   "source": [
    "#ANS:\n",
    "\n",
    "class Animal:\n",
    "    def make_sound(self):\n",
    "        print(\"Generic animal sound\")\n",
    "\n",
    "    def move(self):\n",
    "        print(\"Animal moves\")\n",
    "\n",
    "class Dog(Animal):\n",
    "    def make_sound(self):\n",
    "        print(\"Woof!\")\n",
    "\n",
    "    def move(self):\n",
    "        print(\"Dog runs\")\n",
    "\n",
    "# Create an instance of Dog\n",
    "dog = Dog()\n",
    "\n",
    "# Call the make_sound and move methods\n",
    "dog.make_sound()  # Output: Woof!\n",
    "dog.move()  # Output: Dog runs"
   ]
  },
  {
   "cell_type": "markdown",
   "id": "5782bef7-4734-4a2f-b93c-894098a10eca",
   "metadata": {},
   "source": [
    "## 34. Create a class Mammal with a method reproduce that prints \"Giving birth to live young.\" Create a class DogMammal inheriting from both Dog and Mammal."
   ]
  },
  {
   "cell_type": "code",
   "execution_count": 5,
   "id": "fea56bd0-4d51-48fc-8f74-ede20e1b0536",
   "metadata": {},
   "outputs": [
    {
     "name": "stdout",
     "output_type": "stream",
     "text": [
      "Woof!\n",
      "Dog runs\n",
      "Giving birth to live young\n"
     ]
    }
   ],
   "source": [
    "#ANS:\n",
    "\n",
    "class Mammal:\n",
    "    def reproduce(self):\n",
    "        print(\"Giving birth to live young\")\n",
    "\n",
    "class Dog(Animal):\n",
    "    def make_sound(self):\n",
    "        print(\"Woof!\")\n",
    "\n",
    "    def move(self):\n",
    "        print(\"Dog runs\")\n",
    "\n",
    "class DogMammal(Dog, Mammal):\n",
    "    pass\n",
    "\n",
    "# Create an instance of DogMammal\n",
    "dog_mammal = DogMammal()\n",
    "\n",
    "# Call the make_sound, move, and reproduce methods\n",
    "dog_mammal.make_sound()  # Output: Woof!\n",
    "dog_mammal.move()  # Output: Dog runs\n",
    "dog_mammal.reproduce()  # Output: Giving birth to live young"
   ]
  },
  {
   "cell_type": "markdown",
   "id": "3b9b5d28-43e8-424c-b999-8ee3ff5b6d04",
   "metadata": {},
   "source": [
    "## 35. Create a class GermanShepherd inheriting from Dog and override the make_sound method to print \"Bark!\""
   ]
  },
  {
   "cell_type": "code",
   "execution_count": 7,
   "id": "c619d807-2fb6-428c-b1c9-8f6f1eec950e",
   "metadata": {},
   "outputs": [
    {
     "name": "stdout",
     "output_type": "stream",
     "text": [
      "Bark!\n",
      "Dog runs\n"
     ]
    }
   ],
   "source": [
    "#ANS.\n",
    "\n",
    "class Dog:\n",
    "    def make_sound(self):\n",
    "        print(\"Woof!\")\n",
    "\n",
    "    def move(self):\n",
    "        print(\"Dog runs\")\n",
    "\n",
    "class GermanShepherd(Dog):\n",
    "    def make_sound(self):\n",
    "        print(\"Bark!\")\n",
    "\n",
    "# Create an instance of GermanShepherd\n",
    "german_shepherd = GermanShepherd()\n",
    "\n",
    "# Call the make_sound and move methods\n",
    "german_shepherd.make_sound()  # Output: Bark!\n",
    "german_shepherd.move()  # Output: Dog runs"
   ]
  },
  {
   "cell_type": "markdown",
   "id": "c4413126-6d7e-494f-8d53-dd08bd9f932a",
   "metadata": {},
   "source": [
    "## 36. Define constructors in both the Animal and Dog classes with different initialization parameters."
   ]
  },
  {
   "cell_type": "code",
   "execution_count": 8,
   "id": "f5cc9c51-4434-49d8-bed3-9f2c723a10c2",
   "metadata": {},
   "outputs": [
    {
     "name": "stdout",
     "output_type": "stream",
     "text": [
      "Woof!\n",
      "Dog runs\n"
     ]
    }
   ],
   "source": [
    "#ANS:\n",
    "\n",
    "class Animal:\n",
    "    def __init__(self, name):\n",
    "        self.name = name\n",
    "\n",
    "    def make_sound(self):\n",
    "        print(\"Generic animal sound\")\n",
    "\n",
    "    def move(self):\n",
    "        print(\"Animal moves\")\n",
    "\n",
    "class Dog(Animal):\n",
    "    def __init__(self, name, breed):\n",
    "        super().__init__(name)\n",
    "        self.breed = breed\n",
    "\n",
    "    def make_sound(self):\n",
    "        print(\"Woof!\")\n",
    "\n",
    "    def move(self):\n",
    "        print(\"Dog runs\")\n",
    "\n",
    "# Create an instance of Dog\n",
    "dog = Dog(\"Fido\", \"German Shepherd\")\n",
    "\n",
    "# Call the make_sound and move methods\n",
    "dog.make_sound()  # Output: Woof!\n",
    "dog.move()  # Output: Dog runs"
   ]
  },
  {
   "cell_type": "markdown",
   "id": "56678ad2-72ca-401e-986c-708d996f3a86",
   "metadata": {},
   "source": [
    "## 37. What is abstraction in Python? How is it implemented?"
   ]
  },
  {
   "cell_type": "markdown",
   "id": "0b9be1a4-e318-4492-9821-f43e3d652799",
   "metadata": {},
   "source": [
    "#ANS:\n",
    "\n",
    "Abstraction in Python is a programming concept that hides complex implementation details while exposing only essential information and functionalities to users. It is a fundamental concept in object-oriented programming (OOP) that helps reduce complexity.\n",
    "\n",
    "Abstraction in Python is implemented using abstract classes and abstract methods:\n",
    "\n",
    "Abstract Classes: An abstract class is a class that consists of one or more abstract methods. Abstract classes can be used to define a common interface for different implementations of a component.\n",
    "\n",
    "Abstract Methods: An abstract method is a method that does not contain its implementation. Abstract methods are declared inside an abstract class using the @abstractmethod decorator and must be implemented by any subclass that inherits from the abstract class.\n",
    "\n",
    "Inheritance: Abstract classes can be inherited by subclasses, which must provide specific implementations of the abstract methods.\n",
    "\n",
    "Implementation: Abstraction in Python is implemented using the abc module, which provides the base for defining abstract classes and abstract methods"
   ]
  },
  {
   "cell_type": "markdown",
   "id": "04fd33a2-8340-47ce-a66e-0153ffbc8d51",
   "metadata": {},
   "source": [
    "## 38. Explain the importance of abstraction in object-oriented programming."
   ]
  },
  {
   "cell_type": "markdown",
   "id": "e663245e-4ccf-4402-8a80-5720ec45b883",
   "metadata": {},
   "source": [
    "#ANS:\n",
    "\n",
    "Abstraction in object-oriented programming (OOP) is crucial for several reasons:\n",
    "\n",
    "Simplifies Complexity: Abstraction hides internal implementation details, making complex systems easier to understand and use.\n",
    "\n",
    "Increases Reusability: By providing a high-level interface, abstraction allows code to be reused across different contexts.\n",
    "\n",
    "Reduces Errors: Abstraction reduces the likelihood of errors by hiding internal implementation details, making it easier to focus on the main task.\n",
    "\n",
    "Encourages Collaboration: Abstraction enables different programmers to work on separate parts of a system without needing to know everything about each other's code."
   ]
  },
  {
   "cell_type": "markdown",
   "id": "4c7e63be-b07e-4ca0-aa52-1886b9ccc786",
   "metadata": {},
   "source": [
    "## 39. How are abstract methods different from regular methods in Python?"
   ]
  },
  {
   "cell_type": "markdown",
   "id": "b9408766-046d-4589-9379-21b1579c6826",
   "metadata": {},
   "source": [
    "#ANS:\n",
    "\n",
    "Abstract methods in Python are different from regular methods in the following ways:\n",
    "\n",
    "Implementation: Abstract methods do not have an implementation. They are declared but do not contain any code.\n",
    "\n",
    "Instantiation: Abstract methods cannot be instantiated. They must be implemented in a subclass.\n",
    "\n",
    "Decoration: Abstract methods are decorated with the @abstractmethod decorator, which indicates that they are abstract.\n",
    "\n",
    "Purpose: Abstract methods are used to define a common interface for a set of subclasses. They provide a way to ensure that all subclasses implement a specific method.\n",
    "\n",
    "Error Handling: If a subclass does not implement an abstract method, it cannot be instantiated. This helps prevent errors by ensuring that all subclasses provide the necessary implementation."
   ]
  },
  {
   "cell_type": "markdown",
   "id": "61234a59-5040-4e60-a63f-47283a2e1efa",
   "metadata": {},
   "source": [
    "## 40. How can you achieve abstraction using interfaces in Python?"
   ]
  },
  {
   "cell_type": "markdown",
   "id": "b927ecb1-f2e8-436b-8a95-628000d9d657",
   "metadata": {},
   "source": [
    "#ANS:\n",
    "\n",
    "Abstraction using interfaces in Python can be achieved through abstract classes and methods. The abc module is used to define abstract classes and methods. An abstract class is defined using the ABC class from the abc module and can have both abstract and concrete methods. Abstract methods are declared using the @abstractmethod decorator and do not contain any implementation. Subclasses that implement the interface must provide their own implementation for the abstract methods.\n",
    "\n",
    "FOR EXAMPLE BELOW:"
   ]
  },
  {
   "cell_type": "code",
   "execution_count": 3,
   "id": "b90914be-1eb0-4119-bd13-775a8b6bd734",
   "metadata": {},
   "outputs": [
    {
     "name": "stdout",
     "output_type": "stream",
     "text": [
      "78.5\n"
     ]
    }
   ],
   "source": [
    "from abc import ABC, abstractmethod\n",
    "\n",
    "class Shape(ABC):\n",
    "    @abstractmethod\n",
    "    def area(self):\n",
    "        pass\n",
    "\n",
    "class Circle(Shape):\n",
    "    def __init__(self, radius):\n",
    "        self.radius = radius\n",
    "\n",
    "    def area(self):\n",
    "        return 3.14 * self.radius ** 2\n",
    "\n",
    "circle = Circle(5)\n",
    "print(circle.area())  # Output: 78.5"
   ]
  },
  {
   "cell_type": "markdown",
   "id": "9ccb58cf-38ee-4c48-83da-700db054b839",
   "metadata": {},
   "source": [
    "## 41. Can you provide an example of how abstraction can be utilized to create a common interface for a group of related classes in Python?"
   ]
  },
  {
   "cell_type": "code",
   "execution_count": 5,
   "id": "0582c6e4-0efe-4c7b-ab2a-e59826c9bbb2",
   "metadata": {},
   "outputs": [
    {
     "name": "stdout",
     "output_type": "stream",
     "text": [
      "Circle area: 50.24\n",
      "Circle perimeter: 25.12\n",
      "Rectangle area: 35\n",
      "Rectangle perimeter: 24\n"
     ]
    }
   ],
   "source": [
    "#ANS:\n",
    "\n",
    "#Yes, abstraction can be utilized to create a common interface for a group of related classes in Python by using abstract classes and methods. Here is an example:\n",
    "\n",
    "from abc import ABC, abstractmethod\n",
    "\n",
    "class Shape(ABC):\n",
    "    @abstractmethod\n",
    "    def area(self):\n",
    "        pass\n",
    "\n",
    "    @abstractmethod\n",
    "    def perimeter(self):\n",
    "        pass\n",
    "\n",
    "class Circle(Shape):\n",
    "    def __init__(self, radius):\n",
    "        self.radius = radius\n",
    "\n",
    "    def area(self):\n",
    "        return 3.14 * self.radius ** 2\n",
    "\n",
    "    def perimeter(self):\n",
    "        return 2 * 3.14 * self.radius\n",
    "\n",
    "class Rectangle(Shape):\n",
    "    def __init__(self, width, length):\n",
    "        self.width = width\n",
    "        self.length = length\n",
    "\n",
    "    def area(self):\n",
    "        return self.width * self.length\n",
    "\n",
    "    def perimeter(self):\n",
    "        return 2 * (self.width + self.length)\n",
    "\n",
    "# Create instances of Circle and Rectangle\n",
    "circle = Circle(4)\n",
    "rectangle = Rectangle(5, 7)\n",
    "\n",
    "# Calculate and print the area and perimeter of the shapes\n",
    "print(\"Circle area:\", circle.area())\n",
    "print(\"Circle perimeter:\", circle.perimeter())\n",
    "print(\"Rectangle area:\", rectangle.area())\n",
    "print(\"Rectangle perimeter:\", rectangle.perimeter())"
   ]
  },
  {
   "cell_type": "markdown",
   "id": "59299862-7215-40bf-862c-9932e497fe46",
   "metadata": {},
   "source": [
    "## 42. How does Python achieve polymorphism through method overriding?"
   ]
  },
  {
   "cell_type": "markdown",
   "id": "74953305-8d12-4c5e-99fe-899acee7a03c",
   "metadata": {},
   "source": [
    "#ANS:\n",
    "\n",
    "Python achieves polymorphism through method overriding by allowing a subclass to provide a specific implementation of a method that is already defined in its superclass. This is done by using the same method name and parameters as the superclass method, but providing a different implementation in the subclass. When an object of the subclass is created, Python checks the object's class type and executes the appropriate method at runtime. This allows for dynamic dispatch and runtime polymorphism, enabling different classes to respond differently to the same method call"
   ]
  },
  {
   "cell_type": "markdown",
   "id": "a819dbdb-33dd-4075-ae79-2e6a262e42b6",
   "metadata": {},
   "source": [
    "## 43. Define a base class with a method and a subclass that overrides the method."
   ]
  },
  {
   "cell_type": "code",
   "execution_count": 1,
   "id": "91607c5b-49ec-4a91-8dc0-ca5bcbbcc77d",
   "metadata": {},
   "outputs": [
    {
     "name": "stdout",
     "output_type": "stream",
     "text": [
      "Woof!\n"
     ]
    }
   ],
   "source": [
    "#Here is an example of a base class with a method and a subclass that overrides the method:\n",
    "\n",
    "class Animal:\n",
    "    def sound(self):\n",
    "        print(\"Generic animal sound\")\n",
    "\n",
    "class Dog(Animal):\n",
    "    def sound(self):\n",
    "        print(\"Woof!\")\n",
    "\n",
    "# Create an instance of Dog\n",
    "dog = Dog()\n",
    "\n",
    "# Call the sound method\n",
    "dog.sound()  # Output: Woof!"
   ]
  },
  {
   "cell_type": "markdown",
   "id": "ab2b816a-4aa3-4c7c-aa7c-922727cb2a31",
   "metadata": {},
   "source": [
    "## 44. Define a base class and multiple subclasses with overridden methods."
   ]
  },
  {
   "cell_type": "code",
   "execution_count": 2,
   "id": "886924a0-1eb3-4afc-b3b6-545ee322f70f",
   "metadata": {},
   "outputs": [
    {
     "name": "stdout",
     "output_type": "stream",
     "text": [
      "Starting the car\n",
      "Stopping the car\n",
      "Starting the bike\n",
      "Stopping the bike\n",
      "Starting the truck\n",
      "Stopping the truck\n"
     ]
    }
   ],
   "source": [
    "#Here is an example of a base class and multiple subclasses with overridden methods:\n",
    "\n",
    "class Vehicle:\n",
    "    def start(self):\n",
    "        print(\"Starting the vehicle\")\n",
    "\n",
    "    def stop(self):\n",
    "        print(\"Stopping the vehicle\")\n",
    "\n",
    "class Car(Vehicle):\n",
    "    def start(self):\n",
    "        print(\"Starting the car\")\n",
    "\n",
    "    def stop(self):\n",
    "        print(\"Stopping the car\")\n",
    "\n",
    "class Bike(Vehicle):\n",
    "    def start(self):\n",
    "        print(\"Starting the bike\")\n",
    "\n",
    "    def stop(self):\n",
    "        print(\"Stopping the bike\")\n",
    "\n",
    "class Truck(Vehicle):\n",
    "    def start(self):\n",
    "        print(\"Starting the truck\")\n",
    "\n",
    "    def stop(self):\n",
    "        print(\"Stopping the truck\")\n",
    "\n",
    "# Create instances of the subclasses\n",
    "car = Car()\n",
    "bike = Bike()\n",
    "truck = Truck()\n",
    "\n",
    "# Call the start and stop methods\n",
    "car.start()  # Output: Starting the car\n",
    "car.stop()  # Output: Stopping the car\n",
    "bike.start()  # Output: Starting the bike\n",
    "bike.stop()  # Output: Stopping the bike\n",
    "truck.start()  # Output: Starting the truck\n",
    "truck.stop()  # Output: Stopping the truck"
   ]
  },
  {
   "cell_type": "markdown",
   "id": "1bf81b6f-0036-4241-be5d-778d47ca36bf",
   "metadata": {},
   "source": [
    "## 45. How does polymorphism improve code readability and reusability?"
   ]
  },
  {
   "cell_type": "markdown",
   "id": "3abd92ea-fad9-4a99-8d09-ebb07394f56e",
   "metadata": {},
   "source": [
    "Polymorphism improves code readability and reusability in the following ways:\n",
    "\n",
    "Readability: Polymorphism allows for more flexible and dynamic code, making it easier to understand and maintain. By using the same method name and parameters across different classes, the code becomes more readable and easier to follow.\n",
    "\n",
    "Reusability: Polymorphism enables code reuse by allowing different classes to respond differently to the same method call. This means that the same code can be used across multiple classes, reducing the need for duplicate code and improving code reusability."
   ]
  },
  {
   "cell_type": "markdown",
   "id": "9ce03662-9c2b-467c-9822-fa59cba837b5",
   "metadata": {},
   "source": [
    "## 46. Describe how Python supports polymorphism with duck typing. "
   ]
  },
  {
   "cell_type": "markdown",
   "id": "31da4782-2836-4ed9-b9be-f875caf4567a",
   "metadata": {},
   "source": [
    "In Python, duck typing is a key feature that enables polymorphism. It allows objects to be treated as if they were of the same type, even if they are not of the same class. This is because Python does not check the type of an object before calling a method or accessing an attribute. Instead, it checks if the object has the method or attribute being called, and if it does, it calls the method or accesses the attribute.\n",
    "\n",
    "FOR EXAMPLE BELOW:"
   ]
  },
  {
   "cell_type": "code",
   "execution_count": 3,
   "id": "01bb7f91-6960-4a8b-985a-8f6f4d68c3e2",
   "metadata": {},
   "outputs": [
    {
     "name": "stdout",
     "output_type": "stream",
     "text": [
      "Woof!\n",
      "Meow!\n"
     ]
    }
   ],
   "source": [
    "class Animal:\n",
    "    def sound(self):\n",
    "        pass\n",
    "\n",
    "class Dog(Animal):\n",
    "    def sound(self):\n",
    "        print(\"Woof!\")\n",
    "\n",
    "class Cat(Animal):\n",
    "    def sound(self):\n",
    "        print(\"Meow!\")\n",
    "\n",
    "def make_sound(animal):\n",
    "    animal.sound()\n",
    "\n",
    "dog = Dog()\n",
    "cat = Cat()\n",
    "\n",
    "make_sound(dog)  # Output: Woof!\n",
    "make_sound(cat)  # Output: Meow!"
   ]
  },
  {
   "cell_type": "markdown",
   "id": "6428dac8-4fd1-422d-9709-6de951373f0f",
   "metadata": {},
   "source": [
    "## 47. How do you achieve encapsulation in Python?"
   ]
  },
  {
   "cell_type": "markdown",
   "id": "40705e95-9950-4986-b8f9-3a9de2e26700",
   "metadata": {},
   "source": [
    "Encapsulation in Python is achieved by using classes and objects to hide the implementation details of an object from the outside world.\n",
    "\n",
    "EXAMPLE BELOW:"
   ]
  },
  {
   "cell_type": "code",
   "execution_count": 4,
   "id": "a2b4d128-8c95-4a84-9981-5ae01b3e7b44",
   "metadata": {},
   "outputs": [
    {
     "name": "stdout",
     "output_type": "stream",
     "text": [
      "1500\n",
      "1300\n"
     ]
    }
   ],
   "source": [
    "class BankAccount:\n",
    "    def __init__(self, balance=0):\n",
    "        self.__balance = balance\n",
    "\n",
    "    def deposit(self, amount):\n",
    "        self.__balance += amount\n",
    "\n",
    "    def withdraw(self, amount):\n",
    "        if amount > self.__balance:\n",
    "            print(\"Insufficient balance\")\n",
    "        else:\n",
    "            self.__balance -= amount\n",
    "\n",
    "    def get_balance(self):\n",
    "        return self.__balance\n",
    "\n",
    "account = BankAccount(1000)\n",
    "account.deposit(500)\n",
    "print(account.get_balance())  # Output: 1500\n",
    "account.withdraw(200)\n",
    "print(account.get_balance())  # Output: 1300"
   ]
  },
  {
   "cell_type": "markdown",
   "id": "dd3e7064-f952-4929-a42d-6d805794cc95",
   "metadata": {},
   "source": [
    "## 48. Can encapsulation be bypassed in Python? If so, how?"
   ]
  },
  {
   "cell_type": "markdown",
   "id": "e46fb49d-b9da-42f0-835b-ae954d2f6959",
   "metadata": {},
   "source": [
    "Yes, encapsulation can be bypassed in Python. Here are the ways:\n",
    "\n",
    "Using Single Underscore: Python uses single underscore to indicate that a variable is intended to be private. However, this is not a strict rule and can be bypassed by accessing the variable directly.\n",
    "\n",
    "Using Double Underscore: Python uses double underscore to indicate that a variable is intended to be private and is mangled. However, this can be bypassed by accessing the variable directly or using the object.__dict__ attribute.\n",
    "\n",
    "Using Reflection: Python's reflection mechanism allows you to access and modify private variables directly.\n",
    "\n",
    "Using Third-Party Libraries: Some third-party libraries, such as inspect and pickle, can bypass encapsulation by accessing and modifying private variables."
   ]
  },
  {
   "cell_type": "markdown",
   "id": "52edc24b-f566-4944-9e83-3d48839d4584",
   "metadata": {},
   "source": [
    "## 49. Implement a class BankAccount with a private balance attribute. Include methods to deposit, withdraw, and check the balance."
   ]
  },
  {
   "cell_type": "code",
   "execution_count": 5,
   "id": "99eae3dc-21b1-427d-9648-993fc96acc75",
   "metadata": {},
   "outputs": [
    {
     "name": "stdout",
     "output_type": "stream",
     "text": [
      "1500\n",
      "1300\n",
      "1300\n"
     ]
    }
   ],
   "source": [
    "#Here is an example implementation of a BankAccount class with a private balance attribute and methods to deposit, withdraw, and check the balance:\n",
    "\n",
    "class BankAccount:\n",
    "    def __init__(self, balance=0):\n",
    "        self.__balance = balance\n",
    "\n",
    "    def deposit(self, amount):\n",
    "        self.__balance += amount\n",
    "\n",
    "    def withdraw(self, amount):\n",
    "        if amount > self.__balance:\n",
    "            print(\"Insufficient balance\")\n",
    "        else:\n",
    "            self.__balance -= amount\n",
    "\n",
    "    def check_balance(self):\n",
    "        return self.__balance\n",
    "\n",
    "# Create a BankAccount object\n",
    "account = BankAccount(1000)\n",
    "\n",
    "# Deposit 500\n",
    "account.deposit(500)\n",
    "print(account.check_balance())  # Output: 1500\n",
    "\n",
    "# Withdraw 200\n",
    "account.withdraw(200)\n",
    "print(account.check_balance())  # Output: 1300\n",
    "\n",
    "# Check balance\n",
    "print(account.check_balance())  # Output: 1300"
   ]
  },
  {
   "cell_type": "markdown",
   "id": "a48b44de-852d-4541-b83e-0fb741ecf4a7",
   "metadata": {},
   "source": [
    "## 50. Develop a Person class with private attributes name and email, and methods to set and get the email. "
   ]
  },
  {
   "cell_type": "code",
   "execution_count": 6,
   "id": "c9e92120-410c-4c11-9627-b18d0c99d66f",
   "metadata": {},
   "outputs": [
    {
     "name": "stdout",
     "output_type": "stream",
     "text": [
      "johndoe@example.com\n",
      "Jane Doe\n"
     ]
    }
   ],
   "source": [
    "#Here is an example implementation of a Person class with private attributes name and email, and methods to set and get the email:\n",
    "\n",
    "class Person:\n",
    "    def __init__(self, name, email):\n",
    "        self.__name = name\n",
    "        self.__email = email\n",
    "\n",
    "    def set_email(self, email):\n",
    "        self.__email = email\n",
    "\n",
    "    def get_email(self):\n",
    "        return self.__email\n",
    "\n",
    "    def set_name(self, name):\n",
    "        self.__name = name\n",
    "\n",
    "    def get_name(self):\n",
    "        return self.__name\n",
    "\n",
    "# Create a Person object\n",
    "person = Person(\"John Doe\", \"john.doe@example.com\")\n",
    "\n",
    "# Set email\n",
    "person.set_email(\"johndoe@example.com\")\n",
    "print(person.get_email())  # Output: johndoe@example.com\n",
    "\n",
    "# Set name\n",
    "person.set_name(\"Jane Doe\")\n",
    "print(person.get_name())  # Output: Jane Doe"
   ]
  },
  {
   "cell_type": "markdown",
   "id": "aeebe0cb-c9c8-465e-9d12-2159527aa0ff",
   "metadata": {},
   "source": [
    "## 51. Why is encapsulation considered a pillar of object-oriented programming (OOP)?"
   ]
  },
  {
   "cell_type": "markdown",
   "id": "5a6be16b-2911-4363-97b4-8ab5448ed552",
   "metadata": {},
   "source": [
    "Encapsulation is considered a pillar of object-oriented programming (OOP) because it provides several benefits that enhance the overall design and functionality of a program.\n",
    "\n",
    "Here are some key reasons why encapsulation is considered a fundamental concept in OOP:\n",
    "\n",
    "Data Hiding: Encapsulation allows for data hiding, which means that the internal state of an object is not directly accessible from outside the object. This helps to protect the data from external interference and ensures that the object's internal state remains consistent.\n",
    "\n",
    "\n",
    "Improved Code Reusability: Encapsulation enables code reusability by allowing multiple objects to share the same class without affecting each other. This reduces code duplication and makes it easier to maintain and update the code.\n",
    "\n",
    "\n",
    "Improved Code Readability: Encapsulation improves code readability by providing a clear and consistent interface for interacting with objects. This makes it easier for developers to understand and use the objects in their code.\n",
    "\n",
    "\n",
    "Improved Code Maintainability: Encapsulation improves code maintainability by allowing developers to modify the internal implementation of an object without affecting its external interface. This makes it easier to update and maintain the code over time."
   ]
  },
  {
   "cell_type": "markdown",
   "id": "629f8dee-55ac-4774-9d64-659f2cc42120",
   "metadata": {},
   "source": [
    "## 52. Create a decorator in Python that adds functionality to a simple function by printing a message before and after the function execution."
   ]
  },
  {
   "cell_type": "code",
   "execution_count": 7,
   "id": "18a8a072-cbfe-4971-b2fb-8bce75947121",
   "metadata": {},
   "outputs": [
    {
     "name": "stdout",
     "output_type": "stream",
     "text": [
      "Before function execution\n",
      "After function execution\n",
      "Result: 15\n"
     ]
    }
   ],
   "source": [
    "#Here's an example of a decorator in Python that adds functionality to a simple function by printing a message before and after the function execution:\n",
    "\n",
    "def print_message(func):\n",
    "    def wrapper(*args, **kwargs):\n",
    "        print(\"Before function execution\")\n",
    "        result = func(*args, **kwargs)\n",
    "        print(\"After function execution\")\n",
    "        return result\n",
    "    return wrapper\n",
    "\n",
    "@print_message\n",
    "def add_numbers(a, b):\n",
    "    return a + b\n",
    "\n",
    "result = add_numbers(5, 10)\n",
    "print(\"Result:\", result)"
   ]
  },
  {
   "cell_type": "markdown",
   "id": "c74dd56c-b6b4-4ca6-8dbe-4fb52e3797df",
   "metadata": {},
   "source": [
    "## 53. Modify the decorator to accept arguments and print the function name along with the message."
   ]
  },
  {
   "cell_type": "code",
   "execution_count": 8,
   "id": "9048f7e0-db02-4948-b5d2-afac65945852",
   "metadata": {},
   "outputs": [
    {
     "name": "stdout",
     "output_type": "stream",
     "text": [
      "Function executed - add_numbers\n",
      "Result: 15\n"
     ]
    }
   ],
   "source": [
    "#Here's an example of a decorator that accepts arguments and prints the function name along with the message:\n",
    "def print_message(message, before_after):\n",
    "    def decorator(func):\n",
    "        def wrapper(*args, **kwargs):\n",
    "            if before_after == \"before\":\n",
    "                print(f\"{message} - {func.__name__}\")\n",
    "            result = func(*args, **kwargs)\n",
    "            if before_after == \"after\":\n",
    "                print(f\"{message} - {func.__name__}\")\n",
    "            return result\n",
    "        return wrapper\n",
    "    return decorator\n",
    "\n",
    "@print_message(\"Function executed\", \"before\")\n",
    "def add_numbers(a, b):\n",
    "    return a + b\n",
    "\n",
    "result = add_numbers(5, 10)\n",
    "print(\"Result:\", result)"
   ]
  },
  {
   "cell_type": "markdown",
   "id": "fb3fb5d6-9dbb-48e1-8b97-20b250b43321",
   "metadata": {},
   "source": [
    "## 54. Create two decorators, and apply them to a single function. Ensure that they execute in the order they are applied."
   ]
  },
  {
   "cell_type": "code",
   "execution_count": 9,
   "id": "3b199a0d-6188-460f-84c0-7ee8f9bd5c64",
   "metadata": {},
   "outputs": [
    {
     "name": "stdout",
     "output_type": "stream",
     "text": [
      "Decorator 1 executed\n",
      "Decorator 2 executed\n",
      "Result: 15\n"
     ]
    }
   ],
   "source": [
    "#Here's an example of creating two decorators and applying them to a single function:\n",
    "def decorator1(func):\n",
    "    def wrapper(*args, **kwargs):\n",
    "        print(\"Decorator 1 executed\")\n",
    "        return func(*args, **kwargs)\n",
    "    return wrapper\n",
    "\n",
    "def decorator2(func):\n",
    "    def wrapper(*args, **kwargs):\n",
    "        print(\"Decorator 2 executed\")\n",
    "        return func(*args, **kwargs)\n",
    "    return wrapper\n",
    "\n",
    "@decorator1\n",
    "@decorator2\n",
    "def add_numbers(a, b):\n",
    "    return a + b\n",
    "\n",
    "result = add_numbers(5, 10)\n",
    "print(\"Result:\", result)"
   ]
  },
  {
   "cell_type": "markdown",
   "id": "d30fdfb1-71b4-4de9-b2c8-3249d5b68f62",
   "metadata": {},
   "source": [
    "## 55. Modify the decorator to accept and pass function arguments to the wrapped function."
   ]
  },
  {
   "cell_type": "code",
   "execution_count": 10,
   "id": "8822d358-b897-4636-b898-4f902dc91d3c",
   "metadata": {},
   "outputs": [
    {
     "name": "stdout",
     "output_type": "stream",
     "text": [
      "Decorator 2 executed\n",
      "Decorator 1 executed\n",
      "Result: 15\n"
     ]
    }
   ],
   "source": [
    "#Here's an example of modifying the decorator to accept and pass function arguments to the wrapped function:\n",
    "\n",
    "def decorator1(func):\n",
    "    def wrapper(*args, **kwargs):\n",
    "        print(\"Decorator 1 executed\")\n",
    "        return func(*args, **kwargs)\n",
    "    return wrapper\n",
    "\n",
    "def decorator2(message):\n",
    "    def decorator(func):\n",
    "        def wrapper(*args, **kwargs):\n",
    "            print(message)\n",
    "            return func(*args, **kwargs)\n",
    "        return wrapper\n",
    "    return decorator\n",
    "\n",
    "@decorator2(\"Decorator 2 executed\")\n",
    "@decorator1\n",
    "def add_numbers(a, b):\n",
    "    return a + b\n",
    "\n",
    "result = add_numbers(5, 10)\n",
    "print(\"Result:\", result)"
   ]
  },
  {
   "cell_type": "markdown",
   "id": "be8bdbb1-38e9-4c5b-a2dc-09e9ce96480b",
   "metadata": {},
   "source": [
    "## 56. Create a decorator that preserves the metadata of the original function."
   ]
  },
  {
   "cell_type": "code",
   "execution_count": 12,
   "id": "79725f4e-59e0-4ec8-9281-513a4f368ca5",
   "metadata": {},
   "outputs": [
    {
     "name": "stdout",
     "output_type": "stream",
     "text": [
      "add_numbers\n",
      "Add two numbers and return the result.\n"
     ]
    }
   ],
   "source": [
    "#To create a decorator that preserves the metadata of the original function, you can use the functools.wraps decorator. Here's an example:\n",
    "\n",
    "from functools import wraps\n",
    "\n",
    "def preserve_metadata(func):\n",
    "    @wraps(func)\n",
    "    def wrapper(*args, **kwargs):\n",
    "        return func(*args, **kwargs)\n",
    "    return wrapper\n",
    "\n",
    "@preserve_metadata\n",
    "def add_numbers(a, b):\n",
    "    \"\"\"Add two numbers and return the result.\"\"\"\n",
    "    return a + b\n",
    "\n",
    "print(add_numbers.__name__)  # Output: add_numbers\n",
    "print(add_numbers.__doc__)   # Output: Add two numbers and return the result."
   ]
  },
  {
   "cell_type": "markdown",
   "id": "b5421483-61a2-497f-9b30-48e2c5334ad4",
   "metadata": {},
   "source": [
    "## 57.Create a Python class `Calculator` with a static method `add` that takes in two numbers and returns their sum."
   ]
  },
  {
   "cell_type": "code",
   "execution_count": 15,
   "id": "c22c5033-fb61-46aa-8bb0-07564826744f",
   "metadata": {},
   "outputs": [
    {
     "name": "stdout",
     "output_type": "stream",
     "text": [
      "15\n"
     ]
    }
   ],
   "source": [
    "#Here is a Python class Calculator with a static method add that takes in two numbers and returns their sum:\n",
    "\n",
    "class Calculator:\n",
    "    @staticmethod\n",
    "    def add(a, b):\n",
    "        return a + b\n",
    "\n",
    "# Usage:\n",
    "result = Calculator.add(5, 10)\n",
    "print(result)  # Output: 15"
   ]
  },
  {
   "cell_type": "markdown",
   "id": "3a8b7605-291a-41ff-a6c3-39e039ee72e8",
   "metadata": {},
   "source": [
    "## 58. Create a Python class `Employee` with a class `method get_employee_count` that returns the total number of employees created."
   ]
  },
  {
   "cell_type": "code",
   "execution_count": 16,
   "id": "e3697b45-3c89-4f0c-9921-8aceb693d92d",
   "metadata": {},
   "outputs": [
    {
     "name": "stdout",
     "output_type": "stream",
     "text": [
      "3\n"
     ]
    }
   ],
   "source": [
    "#Here is a Python class Employee with a class method get_employee_count that returns the total number of employees created:\n",
    "\n",
    "class Employee:\n",
    "    employee_count = 0\n",
    "\n",
    "    def __init__(self, name):\n",
    "        self.name = name\n",
    "        Employee.employee_count += 1\n",
    "\n",
    "    @classmethod\n",
    "    def get_employee_count(cls):\n",
    "        return cls.employee_count\n",
    "\n",
    "# Usage:\n",
    "emp1 = Employee(\"John\")\n",
    "emp2 = Employee(\"Jane\")\n",
    "emp3 = Employee(\"Bob\")\n",
    "\n",
    "print(Employee.get_employee_count())  # Output: 3"
   ]
  },
  {
   "cell_type": "markdown",
   "id": "ad1f9cef-47ec-4b83-97d0-d7c190224768",
   "metadata": {},
   "source": [
    "## 59. Create a Python class `StringFormatter` with a static method `reverse_string` that takes a string as input and returns its reverse."
   ]
  },
  {
   "cell_type": "code",
   "execution_count": 17,
   "id": "f1e07db7-e9c8-4962-af59-e61c9098a750",
   "metadata": {},
   "outputs": [
    {
     "name": "stdout",
     "output_type": "stream",
     "text": [
      "olleH\n"
     ]
    }
   ],
   "source": [
    "#Here is a Python class StringFormatter with a static method reverse_string that takes a string as input and returns its reverse:\n",
    "\n",
    "class StringFormatter:\n",
    "    @staticmethod\n",
    "    def reverse_string(s):\n",
    "        return s[::-1]\n",
    "\n",
    "# Usage:\n",
    "print(StringFormatter.reverse_string(\"Hello\"))  # Output: olleH"
   ]
  },
  {
   "cell_type": "markdown",
   "id": "5cc35796-9275-4ce5-91be-a7b916e406ac",
   "metadata": {},
   "source": [
    "## 60. Create a Python class `Circle` with a class method `calculate_area` that calculates the area of a circle given its radius."
   ]
  },
  {
   "cell_type": "code",
   "execution_count": 18,
   "id": "1b493775-0d3b-4f9d-a1f7-33fa40ae8a32",
   "metadata": {},
   "outputs": [
    {
     "name": "stdout",
     "output_type": "stream",
     "text": [
      "The area of the circle with radius 5 is 78.54\n"
     ]
    }
   ],
   "source": [
    "#Here is a Python class Circle with a class method calculate_area that calculates the area of a circle given its radius:\n",
    "\n",
    "import math\n",
    "\n",
    "class Circle:\n",
    "    @classmethod\n",
    "    def calculate_area(cls, radius):\n",
    "        return math.pi * (radius ** 2)\n",
    "\n",
    "# Usage:\n",
    "radius = 5\n",
    "area = Circle.calculate_area(radius)\n",
    "print(f\"The area of the circle with radius {radius} is {area:.2f}\")"
   ]
  },
  {
   "cell_type": "markdown",
   "id": "a5296656-95b7-470f-bca6-25e7a75f48fc",
   "metadata": {},
   "source": [
    "## 61. Create a Python class `TemperatureConverter` with a static method `celsius_to_fahrenheit` that converts Celsius to Fahrenheit."
   ]
  },
  {
   "cell_type": "code",
   "execution_count": 19,
   "id": "e2ed83e0-30e5-47d4-a60c-b1a578818db1",
   "metadata": {},
   "outputs": [
    {
     "name": "stdout",
     "output_type": "stream",
     "text": [
      "30 degrees Celsius is equal to 86.0 degrees Fahrenheit\n"
     ]
    }
   ],
   "source": [
    "#Here is a Python class TemperatureConverter with a static method celsius_to_fahrenheit that converts Celsius to Fahrenheit:\n",
    "\n",
    "class TemperatureConverter:\n",
    "    @staticmethod\n",
    "    def celsius_to_fahrenheit(celsius):\n",
    "        return (celsius * 9/5) + 32\n",
    "\n",
    "# Usage:\n",
    "celsius = 30\n",
    "fahrenheit = TemperatureConverter.celsius_to_fahrenheit(celsius)\n",
    "print(f\"{celsius} degrees Celsius is equal to {fahrenheit} degrees Fahrenheit\")"
   ]
  },
  {
   "cell_type": "markdown",
   "id": "46b8b907-31de-4ad5-a876-cca80733e60c",
   "metadata": {},
   "source": [
    "## 62. What is the purpose of the __str__() method in Python classes? .Provide an example."
   ]
  },
  {
   "cell_type": "markdown",
   "id": "476266e8-d655-4674-8489-9035c63d3343",
   "metadata": {},
   "source": [
    "The purpose of the __str__() method in Python classes is to return a human-readable string representation of an object. This method is called when the built-in str() or print() function is invoked on an object. The __str__() method is intended to provide a string representation that is easy to understand for users, not necessarily for other Python programmers.\n",
    "\n",
    "Here is an example of using the __str__() method in a Python class:"
   ]
  },
  {
   "cell_type": "code",
   "execution_count": 20,
   "id": "b6d1f379-70df-485e-b467-f662da8e0aef",
   "metadata": {},
   "outputs": [
    {
     "name": "stdout",
     "output_type": "stream",
     "text": [
      "The Odyssey by Homer\n"
     ]
    }
   ],
   "source": [
    "class Book:\n",
    "    def __init__(self, title, author):\n",
    "        self.title = title\n",
    "        self.author = author\n",
    "\n",
    "    def __str__(self):\n",
    "        return f\"{self.title} by {self.author}\"\n",
    "\n",
    "# Create an instance of the Book class\n",
    "book = Book(\"The Odyssey\", \"Homer\")\n",
    "\n",
    "# Print the string representation of the book\n",
    "print(book)  # Output: The Odyssey by Homer"
   ]
  },
  {
   "cell_type": "markdown",
   "id": "c54226f7-9fd7-4f9f-bfb7-602f0511d8bd",
   "metadata": {},
   "source": [
    "## 63. How does the __len__() method work in Python? Provide an example."
   ]
  },
  {
   "cell_type": "markdown",
   "id": "31c5438c-6fdf-47d2-86da-4f0643cfd128",
   "metadata": {},
   "source": [
    "The __len__() method in Python is a magic method that returns the length or size of an object. It is used to implement the len() function in Python. When you call len() on an object, Python internally calls the __len__() method to get the length of the object.\n",
    "\n",
    "Here is an example of how to use the __len__() method in a Python class:"
   ]
  },
  {
   "cell_type": "code",
   "execution_count": 21,
   "id": "7d59d30f-b6dc-4df6-8f1e-91b1c26937f6",
   "metadata": {},
   "outputs": [
    {
     "name": "stdout",
     "output_type": "stream",
     "text": [
      "3\n"
     ]
    }
   ],
   "source": [
    "class FruitSalad:\n",
    "    def __init__(self, fruits):\n",
    "        self.fruits = fruits\n",
    "\n",
    "    def __len__(self):\n",
    "        return len(self.fruits)\n",
    "\n",
    "# Create a fruit salad\n",
    "salad = FruitSalad(['apple', 'banana', 'cherry'])\n",
    "\n",
    "# Get the length of the fruit salad\n",
    "length = len(salad)\n",
    "print(length)  # Output: 3"
   ]
  },
  {
   "cell_type": "markdown",
   "id": "e335f3c9-e088-4615-b7de-4dc2bb18a8a7",
   "metadata": {},
   "source": [
    "## 64. Explain the usage of the __add__() method in Python classes. Provide an example."
   ]
  },
  {
   "cell_type": "markdown",
   "id": "96acdf3c-d6d3-473f-a238-7c5df3be526a",
   "metadata": {},
   "source": [
    "The __add__() method in Python classes is used to define the behavior of the addition operator (+) for custom objects. It is a special method that returns a new object representing the summation of the other two objects.\n",
    "\n",
    "Here is an example of how to use the __add__() method in a Python class:"
   ]
  },
  {
   "cell_type": "code",
   "execution_count": 23,
   "id": "bee2a5c4-2f76-4d78-baba-beb0f763864c",
   "metadata": {},
   "outputs": [
    {
     "name": "stdout",
     "output_type": "stream",
     "text": [
      "15\n"
     ]
    }
   ],
   "source": [
    "class Distance:\n",
    "    def __init__(self, value):\n",
    "        self.value = value\n",
    "\n",
    "    def __add__(self, other):\n",
    "        if isinstance(other, Distance):\n",
    "            return Distance(self.value + other.value)\n",
    "        else:\n",
    "            raise TypeError(\"Unsupported operand type for +: '{}' and '{}'\".format(type(self).__name__, type(other).__name__))\n",
    "\n",
    "# Create two Distance objects\n",
    "distance1 = Distance(5)\n",
    "distance2 = Distance(10)\n",
    "\n",
    "# Add the two distances\n",
    "result = distance1 + distance2\n",
    "\n",
    "print(result.value)  # Output: 15"
   ]
  },
  {
   "cell_type": "markdown",
   "id": "be322f94-935b-4ae3-99e7-2a5b5b09ff2b",
   "metadata": {},
   "source": [
    "## 65. What is the purpose of the __getitem__() method in Python?"
   ]
  },
  {
   "cell_type": "markdown",
   "id": "dc1c23fc-98ff-4bf2-be73-eb5a63087f91",
   "metadata": {},
   "source": [
    "The purpose of the __getitem__() method in Python is to define how instances of a class should behave when accessed using square brackets and an index or key. This method allows objects to be accessed using the [] operator, similar to how lists, dictionaries, and other built-in Python objects are accessed.\n",
    "\n",
    "Here is an example of how to use the __getitem__() method in a Python class:"
   ]
  },
  {
   "cell_type": "code",
   "execution_count": 24,
   "id": "0d047718-05da-4890-839f-1de81666653c",
   "metadata": {},
   "outputs": [
    {
     "name": "stdout",
     "output_type": "stream",
     "text": [
      "1\n",
      "2\n",
      "3\n"
     ]
    }
   ],
   "source": [
    "class CustomList:\n",
    "    def __init__(self):\n",
    "        self.data = []\n",
    "\n",
    "    def __getitem__(self, index):\n",
    "        return self.data[index]\n",
    "\n",
    "    def append(self, value):\n",
    "        self.data.append(value)\n",
    "\n",
    "my_list = CustomList()\n",
    "my_list.append(1)\n",
    "my_list.append(2)\n",
    "my_list.append(3)\n",
    "\n",
    "print(my_list[0])  # Output: 1\n",
    "print(my_list[1])  # Output: 2\n",
    "print(my_list[2])  # Output: 3"
   ]
  },
  {
   "cell_type": "markdown",
   "id": "2a40f900-96ce-4e2b-be52-9925248b8fbd",
   "metadata": {},
   "source": [
    "## 66. Explain the usage of the __iter__() and __next__() methods in Python. Provide an example using iterators."
   ]
  },
  {
   "cell_type": "markdown",
   "id": "a434bacf-5dd7-4eb1-9cd4-4a2c3c0307c6",
   "metadata": {},
   "source": [
    "The __iter__() and __next__() methods in Python are used to create iterators, which are objects that allow you to iterate over a sequence of values. The __iter__() method returns an iterator object, and the __next__() method returns the next value in the sequence.\n",
    "\n",
    "Here is an example of how to use the __iter__() and __next__() methods in a Python class:"
   ]
  },
  {
   "cell_type": "code",
   "execution_count": 1,
   "id": "3007a52d-0117-4ebe-9df4-ff00131de03a",
   "metadata": {},
   "outputs": [
    {
     "name": "stdout",
     "output_type": "stream",
     "text": [
      "1\n",
      "2\n",
      "3\n",
      "4\n",
      "5\n"
     ]
    }
   ],
   "source": [
    "class MyIterator:\n",
    "    def __init__(self, data):\n",
    "        self.data = data\n",
    "        self.index = 0\n",
    "\n",
    "    def __iter__(self):\n",
    "        return self\n",
    "\n",
    "    def __next__(self):\n",
    "        if self.index >= len(self.data):\n",
    "            raise StopIteration\n",
    "        value = self.data[self.index]\n",
    "        self.index += 1\n",
    "        return value\n",
    "\n",
    "# Create an iterator\n",
    "my_iterator = MyIterator([1, 2, 3, 4, 5])\n",
    "\n",
    "# Iterate over the iterator\n",
    "for value in my_iterator:\n",
    "    print(value)"
   ]
  },
  {
   "cell_type": "markdown",
   "id": "88ae35a1-10fa-436a-8181-c50032db7c6f",
   "metadata": {},
   "source": [
    "## 67. What is the purpose of a getter method in Python? Provide an example demonstrating the use of a getter method using property decorators."
   ]
  },
  {
   "cell_type": "markdown",
   "id": "7b4ae23f-59b4-44ea-b988-de147382608a",
   "metadata": {},
   "source": [
    "The purpose of a getter method in Python is to provide a way to access the value of a private attribute or property of an object. It is a method that returns the value of the attribute, and it is often used in conjunction with a setter method to control access to the attribute.\n",
    "\n",
    "Here is an example demonstrating the use of a getter method using property decorators:"
   ]
  },
  {
   "cell_type": "code",
   "execution_count": 2,
   "id": "22b9fdbd-c9c4-4c7a-8e41-f59bae24bdcd",
   "metadata": {},
   "outputs": [
    {
     "name": "stdout",
     "output_type": "stream",
     "text": [
      "Steve\n",
      "Bill\n"
     ]
    }
   ],
   "source": [
    "class Student:\n",
    "    def __init__(self, name):\n",
    "        self.__name = name\n",
    "\n",
    "    @property\n",
    "    def name(self):\n",
    "        return self.__name\n",
    "\n",
    "    @name.setter\n",
    "    def name(self, value):\n",
    "        self.__name = value\n",
    "\n",
    "s = Student('Steve')\n",
    "print(s.name)  # Output: Steve\n",
    "s.name = 'Bill'\n",
    "print(s.name)  # Output: Bill"
   ]
  },
  {
   "cell_type": "markdown",
   "id": "39a85fd2-70bf-4db0-99ea-6351ca801d7c",
   "metadata": {},
   "source": [
    "## 68. Explain the role of setter methods in Python. Demonstrate how to use a setter method to modify a class attribute using property decorators."
   ]
  },
  {
   "cell_type": "markdown",
   "id": "5676950f-923c-40e0-b589-0c13711ee6ea",
   "metadata": {},
   "source": [
    "Setter methods in Python are used to modify the value of a class attribute. They are an essential part of object-oriented programming (OOP) and are used to ensure data encapsulation. Setter methods are used to set the value of a private attribute, which is a variable that is not directly accessible from outside the class.\n",
    "\n",
    "Here is an example of how to use a setter method to modify a class attribute using property decorators:"
   ]
  },
  {
   "cell_type": "code",
   "execution_count": 3,
   "id": "c46b6426-6666-4412-b955-0e481d1f9490",
   "metadata": {},
   "outputs": [
    {
     "name": "stdout",
     "output_type": "stream",
     "text": [
      "John\n",
      "Jane\n"
     ]
    }
   ],
   "source": [
    "class Person:\n",
    "    def __init__(self, name):\n",
    "        self._name = name\n",
    "\n",
    "    @property\n",
    "    def name(self):\n",
    "        return self._name\n",
    "\n",
    "    @name.setter\n",
    "    def name(self, value):\n",
    "        if not isinstance(value, str):\n",
    "            raise TypeError(\"Name must be a string\")\n",
    "        self._name = value\n",
    "\n",
    "person = Person(\"John\")\n",
    "print(person.name)  # Output: John\n",
    "\n",
    "person.name = \"Jane\"\n",
    "print(person.name)  # Output: Jane"
   ]
  },
  {
   "cell_type": "markdown",
   "id": "5db9353b-ccc8-4d76-a899-8b01cede5baa",
   "metadata": {},
   "source": [
    "## 69. What is the purpose of the @property decorator in Python? Provide an example illustrating its usage. "
   ]
  },
  {
   "cell_type": "markdown",
   "id": "0a711c67-5221-4521-936f-eb7b59f83486",
   "metadata": {},
   "source": [
    "The @property decorator in Python is used to define a method as a read-only attribute of a class. It allows you to access the method as if it were an attribute, without the need to call it with parentheses.\n",
    "\n",
    "Here's an example illustrating the usage of the @property decorator:"
   ]
  },
  {
   "cell_type": "code",
   "execution_count": 4,
   "id": "9bd24f4d-d3d2-4fef-8971-37a062e527c2",
   "metadata": {},
   "outputs": [
    {
     "name": "stdout",
     "output_type": "stream",
     "text": [
      "78.5\n",
      "31.400000000000002\n"
     ]
    }
   ],
   "source": [
    "class Circle:\n",
    "    def __init__(self, radius):\n",
    "        self.__radius = radius\n",
    "\n",
    "    @property\n",
    "    def area(self):\n",
    "        return 3.14 * self.__radius ** 2\n",
    "\n",
    "    @property\n",
    "    def circumference(self):\n",
    "        return 2 * 3.14 * self.__radius\n",
    "\n",
    "circle = Circle(5)\n",
    "print(circle.area)     # Output: 78.5\n",
    "print(circle.circumference)  # Output: 31.400000000000002"
   ]
  },
  {
   "cell_type": "markdown",
   "id": "f5452cd7-a4b9-4fd7-a105-61bb4ba29dfa",
   "metadata": {},
   "source": [
    "## 70. Explain the use of the @deleter decorator in Python property decorators. Provide a code example demonstrating its application."
   ]
  },
  {
   "cell_type": "markdown",
   "id": "bf992561-1cb6-4bdd-9ee6-c5cba41aa9fe",
   "metadata": {},
   "source": [
    "The @deleter decorator in Python property decorators is used to define a method that deletes a property. This method is called when the property is deleted using the del statement. The @deleter decorator is used in conjunction with the @property decorator to define a property that can be both read and written.\n",
    "\n",
    "Here is an example of how to use the @deleter decorator:"
   ]
  },
  {
   "cell_type": "code",
   "execution_count": 6,
   "id": "965b1d82-b97a-4da7-81f3-283edaa97ba5",
   "metadata": {},
   "outputs": [
    {
     "name": "stdout",
     "output_type": "stream",
     "text": [
      "Steve\n",
      "Bill\n",
      "Deleting..\n"
     ]
    },
    {
     "ename": "AttributeError",
     "evalue": "'Student' object has no attribute '_Student__name'",
     "output_type": "error",
     "traceback": [
      "\u001b[0;31m---------------------------------------------------------------------------\u001b[0m",
      "\u001b[0;31mAttributeError\u001b[0m                            Traceback (most recent call last)",
      "Cell \u001b[0;32mIn[6], line 23\u001b[0m\n\u001b[1;32m     21\u001b[0m \u001b[38;5;28mprint\u001b[39m(std\u001b[38;5;241m.\u001b[39mname)  \u001b[38;5;66;03m# Output: Bill\u001b[39;00m\n\u001b[1;32m     22\u001b[0m \u001b[38;5;28;01mdel\u001b[39;00m std\u001b[38;5;241m.\u001b[39mname\n\u001b[0;32m---> 23\u001b[0m \u001b[38;5;28mprint\u001b[39m(\u001b[43mstd\u001b[49m\u001b[38;5;241;43m.\u001b[39;49m\u001b[43mname\u001b[49m)  \u001b[38;5;66;03m# Output: AttributeError\u001b[39;00m\n",
      "Cell \u001b[0;32mIn[6], line 7\u001b[0m, in \u001b[0;36mStudent.name\u001b[0;34m(self)\u001b[0m\n\u001b[1;32m      5\u001b[0m \u001b[38;5;129m@property\u001b[39m\n\u001b[1;32m      6\u001b[0m \u001b[38;5;28;01mdef\u001b[39;00m \u001b[38;5;21mname\u001b[39m(\u001b[38;5;28mself\u001b[39m):\n\u001b[0;32m----> 7\u001b[0m     \u001b[38;5;28;01mreturn\u001b[39;00m \u001b[38;5;28;43mself\u001b[39;49m\u001b[38;5;241;43m.\u001b[39;49m\u001b[43m__name\u001b[49m\n",
      "\u001b[0;31mAttributeError\u001b[0m: 'Student' object has no attribute '_Student__name'"
     ]
    }
   ],
   "source": [
    "class Student:\n",
    "    def __init__(self, name):\n",
    "        self.__name = name\n",
    "\n",
    "    @property\n",
    "    def name(self):\n",
    "        return self.__name\n",
    "\n",
    "    @name.setter\n",
    "    def name(self, value):\n",
    "        self.__name = value\n",
    "\n",
    "    @name.deleter\n",
    "    def name(self):\n",
    "        print('Deleting..')\n",
    "        del self.__name\n",
    "\n",
    "std = Student('Steve')\n",
    "print(std.name)  # Output: Steve\n",
    "std.name = 'Bill'\n",
    "print(std.name)  # Output: Bill\n",
    "del std.name\n",
    "print(std.name)  # Output: AttributeError"
   ]
  },
  {
   "cell_type": "markdown",
   "id": "6b18b0d8-6f5b-48f5-9300-ee2e8f655070",
   "metadata": {},
   "source": [
    "## 71. How does encapsulation relate to property decorators in Python? Provide an example showcasing encapsulation using property decorators."
   ]
  },
  {
   "cell_type": "markdown",
   "id": "1d98b118-67fd-4785-a683-41b3bed74a96",
   "metadata": {},
   "source": [
    "Encapsulation is a fundamental concept in object-oriented programming (OOP) that aims to hide the internal implementation details of an object and expose only the necessary methods and properties to interact with it. In Python, property decorators are a convenient way to implement encapsulation by providing a way to define getter, setter, and deleter methods for class attributes.\n",
    "\n",
    "Here's an example that showcases encapsulation using property decorators in Python:"
   ]
  },
  {
   "cell_type": "code",
   "execution_count": 7,
   "id": "22872fdd-d037-445d-ad73-34a10bdae2bd",
   "metadata": {},
   "outputs": [
    {
     "name": "stdout",
     "output_type": "stream",
     "text": [
      "1000\n",
      "500\n"
     ]
    }
   ],
   "source": [
    "class BankAccount:\n",
    "    def __init__(self, balance):\n",
    "        self.__balance = balance\n",
    "\n",
    "    @property\n",
    "    def balance(self):\n",
    "        return self.__balance\n",
    "\n",
    "    @balance.setter\n",
    "    def balance(self, amount):\n",
    "        if amount < 0:\n",
    "            raise ValueError(\"Balance cannot be negative\")\n",
    "        self.__balance = amount\n",
    "\n",
    "    @balance.deleter\n",
    "    def balance(self):\n",
    "        del self.__balance\n",
    "\n",
    "account = BankAccount(1000)\n",
    "print(account.balance)  # Output: 1000\n",
    "\n",
    "account.balance = 500\n",
    "print(account.balance)  # Output: 500\n",
    "\n",
    "del account.balance"
   ]
  },
  {
   "cell_type": "code",
   "execution_count": null,
   "id": "688f92f5-90bd-4cde-8865-0f2ec65b582e",
   "metadata": {},
   "outputs": [],
   "source": []
  }
 ],
 "metadata": {
  "kernelspec": {
   "display_name": "Python 3 (ipykernel)",
   "language": "python",
   "name": "python3"
  },
  "language_info": {
   "codemirror_mode": {
    "name": "ipython",
    "version": 3
   },
   "file_extension": ".py",
   "mimetype": "text/x-python",
   "name": "python",
   "nbconvert_exporter": "python",
   "pygments_lexer": "ipython3",
   "version": "3.10.8"
  }
 },
 "nbformat": 4,
 "nbformat_minor": 5
}
